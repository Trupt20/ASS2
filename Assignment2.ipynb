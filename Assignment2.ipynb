{
 "cells": [
  {
   "cell_type": "code",
   "execution_count": null,
   "id": "f96f410a-985e-4951-accc-9ccf76679734",
   "metadata": {},
   "outputs": [],
   "source": [
    "### QUESTION 1 ###\n",
    "\"\"\" Commens in Python are shown by \"# \" symbol.\n",
    " \"#\" Hash characters is not considered as string.\n",
    " Comments in python are used to explain code.It make the code more readable.\n",
    " comments are ignore by Python.\n",
    " TYPES OF COMMENTS :- \n",
    " 1) Singleline Comments :- Python single-line comment starts with the hashtag symbol (#) with no white spaces and lasts till \n",
    "    the end of the line. \n",
    "    If the comment exceeds one line then put a hashtag on the next line and continue the Python Comments. \n",
    "    Python’s single-line comments are proved useful for supplying short explanations for variables.\n",
    " 2) Multiline Comments using literals :- String literals with triple quotes that are appeared right after the function.\n",
    "     It is added right below the functions, modules, or classes to describe what they do.\n",
    " "
   ]
  },
  {
   "cell_type": "code",
   "execution_count": 2,
   "id": "9a4bf4e8-ecbe-46ca-872b-75f8bd57ba65",
   "metadata": {},
   "outputs": [
    {
     "data": {
      "text/plain": [
       "[1, 2, 3]"
      ]
     },
     "execution_count": 2,
     "metadata": {},
     "output_type": "execute_result"
    }
   ],
   "source": [
    "''' QUESTION 2 '''\n",
    "# In python variable is just a symbolic name that is referance to an object. \n",
    "# If once you assign the variable to that object you can call that object by the variable name. \n",
    "# Example:- M = \"Rani\", In this example (M) is the variable is created for the string \"Rani\".\n",
    "# For varible you can give any name that you wangt to giove to your object.\n",
    "# You can assign string,list,tuple etc.There is restriction while assinging variable to object.\n",
    "a= [1,2,3]\n",
    "a"
   ]
  },
  {
   "cell_type": "code",
   "execution_count": 8,
   "id": "40768ea6-8048-4f9b-919e-695403df7a69",
   "metadata": {},
   "outputs": [
    {
     "name": "stdout",
     "output_type": "stream",
     "text": [
      "Adding int and float 33.4\n",
      "Float is converted into integer 20\n",
      "Addding a and b 65.36\n"
     ]
    }
   ],
   "source": [
    "''' QUESTION 3'''\n",
    "# Python defines conversion functions like int(), float(), str() to directly convert one data type into another.\n",
    "# In Python there is 2 type of data conversions , 1)mplicit Conversion - automatic data convert\n",
    "# 2)Explicit Conversion - manual data convert.\n",
    "'''Example:- Implicit '''\n",
    "int_1 = 20\n",
    "float_2 = 13.4\n",
    "add_12 = int_1 + float_2\n",
    "print(\"Adding int and float\",add_12)\n",
    "#In the above example while adding integer and float value the output will be a float value.\n",
    "#Python promotes the conversion of the lower data type (integer) to the higher data type (float) to avoid data loss.\n",
    "\n",
    "'''Example:- Explicit '''\n",
    "a = 20.36\n",
    "b = 45\n",
    "s = int(a)\n",
    "print(\"Float is converted into integer\",s)\n",
    "add = a+b\n",
    "print( \"Addding a and b\",add)\n",
    "# In the above example while adding the a and b first s variable is converted a = 20.36 in integer then it add a and b,\n",
    "#In Explicit Type Conversion, users convert the data type of an object to required data type.\n",
    "\n",
    "\n",
    "\n",
    "\n",
    "\n",
    "\n"
   ]
  },
  {
   "cell_type": "code",
   "execution_count": 6,
   "id": "0ba7027f-5cb4-4dcf-95dc-6b4071ee8c5a",
   "metadata": {},
   "outputs": [
    {
     "name": "stdout",
     "output_type": "stream",
     "text": [
      "The sublist is:-  [2, 3]\n"
     ]
    }
   ],
   "source": [
    "### QUESTION 5 ##\n",
    "my_list = [1,2,3,4,5]\n",
    "sub_list=my_list[1:3]\n",
    "print(\"The sublist is:- \",sub_list)\n"
   ]
  },
  {
   "cell_type": "code",
   "execution_count": 24,
   "id": "0348db89-bf43-4004-be5a-cd144f9654d8",
   "metadata": {},
   "outputs": [
    {
     "name": "stdout",
     "output_type": "stream",
     "text": [
      "<class 'complex'>\n",
      "The real part is:- 15.0\n",
      "The imaginary part is:- 6.0\n"
     ]
    }
   ],
   "source": [
    "### QUESTION 6 ###\n",
    "''' The Complex number is the number which includes the \n",
    "real and imginary part.In maths the complex number is represent like\n",
    "x+yi , in this real part is x and imaginary part is yi\n",
    "EXAMPLE :- 12+3i'''\n",
    "\"\"\"In Python we define complex number as x+yj , in python i is \n",
    "ues to represtent electric current that is way we use j insted of i .\n",
    "EXAMPLE :- 14+5j \"\"\"\n",
    "a = 15+6j\n",
    "type(a)\n",
    "print(type(a))\n",
    "c = a.real\n",
    "print(\"The real part is:-\",c)\n",
    "d = a.imag\n",
    "print(\"The imaginary part is:-\",d)"
   ]
  },
  {
   "cell_type": "code",
   "execution_count": 22,
   "id": "7a194383-9499-44c1-b17b-fca21c0a0d90",
   "metadata": {},
   "outputs": [
    {
     "name": "stdout",
     "output_type": "stream",
     "text": [
      "age is:- 25\n"
     ]
    }
   ],
   "source": [
    "### QUESTION 7 ###\n",
    "'''First declare the variable named as age or any name \n",
    "that you want to declare.'''\n",
    "Age = 25\n",
    "print (\"age is:-\", Age)"
   ]
  },
  {
   "cell_type": "code",
   "execution_count": 20,
   "id": "a4bc7c4e-d62b-449f-9f2a-61b5d7c7ddaf",
   "metadata": {},
   "outputs": [
    {
     "name": "stdout",
     "output_type": "stream",
     "text": [
      "The data type of variable price <class 'float'>\n"
     ]
    }
   ],
   "source": [
    "### QUESTION 8 ###\n",
    "Price = 9.99\n",
    "Price\n",
    "print(\"The data type of variable price\",type(Price))"
   ]
  },
  {
   "cell_type": "code",
   "execution_count": 25,
   "id": "2025e9b4-bdad-40ba-a2d2-b9337dacf81d",
   "metadata": {},
   "outputs": [
    {
     "name": "stdout",
     "output_type": "stream",
     "text": [
      "THe full name is:- Trupti Rajendra Garud\n"
     ]
    }
   ],
   "source": [
    "### QUESTION 9 ###\n",
    "name = \"Trupti Rajendra Garud\"\n",
    "print(\"THe full name is:-\",name)"
   ]
  },
  {
   "cell_type": "code",
   "execution_count": 30,
   "id": "dbde070b-5cd0-4bf5-8501-429dc2487d50",
   "metadata": {},
   "outputs": [
    {
     "name": "stdout",
     "output_type": "stream",
     "text": [
      "The string is:- Hello,World!\n",
      "The substring is World\n"
     ]
    }
   ],
   "source": [
    "### QUESTON 10 ###\n",
    "string = \"Hello,World!\"\n",
    "print(\"The string is:-\",string)\n",
    "a = string[6:11]\n",
    "print(\"The substring is\",a)"
   ]
  },
  {
   "cell_type": "code",
   "execution_count": 32,
   "id": "b23c2e38-552f-4475-bc33-70f39359c6a8",
   "metadata": {},
   "outputs": [
    {
     "name": "stdout",
     "output_type": "stream",
     "text": [
      "You are currently student:- True\n"
     ]
    }
   ],
   "source": [
    "### QUESTION 11 ###\n",
    "is_student = True\n",
    "print(\"You are currently student:-\",is_student)\n"
   ]
  }
 ],
 "metadata": {
  "kernelspec": {
   "display_name": "Python 3 (ipykernel)",
   "language": "python",
   "name": "python3"
  },
  "language_info": {
   "codemirror_mode": {
    "name": "ipython",
    "version": 3
   },
   "file_extension": ".py",
   "mimetype": "text/x-python",
   "name": "python",
   "nbconvert_exporter": "python",
   "pygments_lexer": "ipython3",
   "version": "3.10.8"
  }
 },
 "nbformat": 4,
 "nbformat_minor": 5
}
